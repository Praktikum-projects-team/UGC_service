{
 "cells": [
  {
   "cell_type": "code",
   "execution_count": 1,
   "metadata": {},
   "outputs": [
    {
     "name": "stdout",
     "output_type": "stream",
     "text": [
      "\u001b[1A\u001b[1B\u001b[0G\u001b[?25l[+] Running 1/0\n",
      " \u001b[32m✔\u001b[0m Network storage_research_default  \u001b[32mCreated\u001b[0m                               \u001b[34m0.1s \u001b[0m\n",
      " ⠋ Container clickhouse_ugc          \u001b[39mCreatin...\u001b[0m                            \u001b[34m0.0s \u001b[0m\n",
      "\u001b[?25h\u001b[1A\u001b[1A\u001b[1A\u001b[0G\u001b[?25l[+] Running 1/2\n",
      " \u001b[32m✔\u001b[0m Network storage_research_default  \u001b[32mCreated\u001b[0m                               \u001b[34m0.1s \u001b[0m\n",
      " ⠿ Container clickhouse_ugc          \u001b[39mStartin...\u001b[0m                            \u001b[34m0.1s \u001b[0m\n",
      "\u001b[?25h\u001b[1A\u001b[1A\u001b[1A\u001b[0G\u001b[?25l[+] Running 1/2\n",
      " \u001b[32m✔\u001b[0m Network storage_research_default  \u001b[32mCreated\u001b[0m                               \u001b[34m0.1s \u001b[0m\n",
      " ⠿ Container clickhouse_ugc          \u001b[39mStartin...\u001b[0m                            \u001b[34m0.2s \u001b[0m\n",
      "\u001b[?25h\u001b[1A\u001b[1A\u001b[1A\u001b[0G\u001b[?25l[+] Running 1/2\n",
      " \u001b[32m✔\u001b[0m Network storage_research_default  \u001b[32mCreated\u001b[0m                               \u001b[34m0.1s \u001b[0m\n",
      " ⠿ Container clickhouse_ugc          \u001b[39mStartin...\u001b[0m                            \u001b[34m0.3s \u001b[0m\n",
      "\u001b[?25h\u001b[1A\u001b[1A\u001b[1A\u001b[0G\u001b[?25l\u001b[34m[+] Running 2/2\u001b[0m\n",
      " \u001b[32m✔\u001b[0m Network storage_research_default  \u001b[32mCreated\u001b[0m                               \u001b[34m0.1s \u001b[0m\n",
      " \u001b[32m✔\u001b[0m Container clickhouse_ugc          \u001b[32mStarted\u001b[0m                               \u001b[34m0.4s \u001b[0m\n",
      "\u001b[?25h"
     ]
    }
   ],
   "source": [
    "!docker compose -f clickhouse_basic.yml down --remove-orphans -v && docker compose -f clickhouse_basic.yml up -d"
   ]
  },
  {
   "cell_type": "code",
   "execution_count": 2,
   "metadata": {},
   "outputs": [],
   "source": [
    "from asynch import connect\n",
    "\n",
    "conn = await connect(\n",
    "    host='127.0.0.1',\n",
    "    port=9090,\n",
    "    database='default',\n",
    "    user='default',\n",
    "    password='',\n",
    ")"
   ]
  },
  {
   "cell_type": "code",
   "execution_count": 3,
   "metadata": {},
   "outputs": [],
   "source": [
    "from typing import Iterable\n",
    "from asynch.cursors import DictCursor\n",
    "from more_itertools import chunked\n",
    "\n",
    "\n",
    "async def create_table():\n",
    "    sql = \"\"\"\n",
    "    CREATE TABLE IF NOT EXISTS view_history\n",
    "    (\n",
    "        created_at DateTime,\n",
    "        user_id UUID,\n",
    "        film_id UUID,\n",
    "        timestamp UInt16\n",
    "    )\n",
    "    ENGINE = MergeTree\n",
    "    ORDER BY created_at\n",
    "    \"\"\"\n",
    "    async with conn.cursor() as cursor:\n",
    "        await cursor.execute(sql)\n",
    "\n",
    "\n",
    "async def insert_data(data: Iterable[dict], chunk: int = 1000):\n",
    "    sql = \"\"\"\n",
    "    INSERT INTO view_history (created_at, user_id, film_id, timestamp)\n",
    "    VALUES\n",
    "    \"\"\"\n",
    "    async with conn.cursor(cursor=DictCursor) as cursor:\n",
    "        for ch in chunked(data, chunk):\n",
    "            await cursor.execute(sql, ch)\n",
    "\n",
    "\n",
    "async def select_data():\n",
    "    sql = \"\"\"\n",
    "    SELECT user_id, avg(timestamp) FROM view_history\n",
    "    GROUP BY user_id\n",
    "    \"\"\"\n",
    "    async with conn.cursor() as cursor:\n",
    "        await cursor.execute(sql)\n",
    "\n",
    "\n",
    "async def clear_table():\n",
    "    sql = \"\"\"\n",
    "    TRUNCATE TABLE view_history\n",
    "    \"\"\"\n",
    "    async with conn.cursor() as cursor:\n",
    "        await cursor.execute(sql)\n"
   ]
  },
  {
   "cell_type": "code",
   "execution_count": 4,
   "metadata": {},
   "outputs": [],
   "source": [
    "import time\n",
    "from collections import defaultdict\n",
    "\n",
    "\n",
    "async def bench(data: list[dict], chunk: int, n: int):\n",
    "    elapsed = defaultdict(list)\n",
    "    for _ in range(n):\n",
    "        await clear_table()\n",
    "        start_time = time.time()\n",
    "        await insert_data(data, chunk)\n",
    "        end_time = time.time()\n",
    "        elapsed['write'].append(end_time - start_time)\n",
    "\n",
    "        start_time = time.time()\n",
    "        await select_data()\n",
    "        end_time = time.time()\n",
    "        elapsed['read'].append(end_time - start_time)\n",
    "\n",
    "    return elapsed\n"
   ]
  },
  {
   "cell_type": "code",
   "execution_count": 5,
   "metadata": {},
   "outputs": [],
   "source": [
    "await create_table()"
   ]
  },
  {
   "cell_type": "code",
   "execution_count": 6,
   "metadata": {},
   "outputs": [],
   "source": [
    "from data import ViewHistoryCollection\n",
    "\n",
    "total = 1_000_000\n",
    "views = ViewHistoryCollection(total, int(total / 2), int(total / 4)).to_dict()"
   ]
  },
  {
   "cell_type": "code",
   "execution_count": 7,
   "metadata": {},
   "outputs": [],
   "source": [
    "# totals = [1_000, 10_000, 100_000, 1_000_000, 10_000_000]\n",
    "totals = [1_000, 10_000, 100_000, 1_000_000]\n",
    "elapsed = dict()\n",
    "for total in totals:\n",
    "    elapsed[total] = await bench(views[: total + 1], 500, 3)"
   ]
  },
  {
   "cell_type": "code",
   "execution_count": 8,
   "metadata": {},
   "outputs": [
    {
     "data": {
      "text/plain": [
       "{1000: defaultdict(list,\n",
       "             {'write': [0.024312257766723633,\n",
       "               0.01767444610595703,\n",
       "               0.014029264450073242],\n",
       "              'read': [0.004565238952636719,\n",
       "               0.0031099319458007812,\n",
       "               0.0029039382934570312]}),\n",
       " 10000: defaultdict(list,\n",
       "             {'write': [0.12547922134399414,\n",
       "               0.12379240989685059,\n",
       "               0.12362360954284668],\n",
       "              'read': [0.011844158172607422,\n",
       "               0.009453773498535156,\n",
       "               0.008905172348022461]}),\n",
       " 100000: defaultdict(list,\n",
       "             {'write': [1.2888517379760742,\n",
       "               1.2554771900177002,\n",
       "               1.2521629333496094],\n",
       "              'read': [0.08154726028442383,\n",
       "               0.07345175743103027,\n",
       "               0.08325028419494629]}),\n",
       " 1000000: defaultdict(list,\n",
       "             {'write': [12.72580885887146,\n",
       "               12.6996488571167,\n",
       "               13.123623609542847],\n",
       "              'read': [1.4218800067901611,\n",
       "               1.3551931381225586,\n",
       "               1.2734136581420898]})}"
      ]
     },
     "execution_count": 8,
     "metadata": {},
     "output_type": "execute_result"
    }
   ],
   "source": [
    "elapsed"
   ]
  },
  {
   "cell_type": "code",
   "execution_count": 9,
   "metadata": {},
   "outputs": [],
   "source": [
    "await conn.close()"
   ]
  },
  {
   "cell_type": "code",
   "execution_count": 10,
   "metadata": {},
   "outputs": [
    {
     "name": "stdout",
     "output_type": "stream",
     "text": [
      "\u001b[1A\u001b[1B\u001b[0G\u001b[?25l[+] Running 0/0\n",
      " ⠋ Container clickhouse_ugc  \u001b[39mStopping\u001b[0m                                      \u001b[34m0.1s \u001b[0m\n",
      "\u001b[?25h\u001b[1A\u001b[1A\u001b[0G\u001b[?25l[+] Running 0/1\n",
      " ⠙ Container clickhouse_ugc  \u001b[39mStopping\u001b[0m                                      \u001b[34m0.2s \u001b[0m\n",
      "\u001b[?25h\u001b[1A\u001b[1A\u001b[0G\u001b[?25l[+] Running 0/1\n",
      " ⠹ Container clickhouse_ugc  \u001b[39mStopping\u001b[0m                                      \u001b[34m0.3s \u001b[0m\n",
      "\u001b[?25h\u001b[1A\u001b[1A\u001b[0G\u001b[?25l[+] Running 0/1\n",
      " ⠸ Container clickhouse_ugc  \u001b[39mStopping\u001b[0m                                      \u001b[34m0.4s \u001b[0m\n",
      "\u001b[?25h\u001b[1A\u001b[1A\u001b[0G\u001b[?25l[+] Running 0/1\n",
      " ⠼ Container clickhouse_ugc  \u001b[39mStopping\u001b[0m                                      \u001b[34m0.5s \u001b[0m\n",
      "\u001b[?25h\u001b[1A\u001b[1A\u001b[0G\u001b[?25l[+] Running 0/1\n",
      " ⠴ Container clickhouse_ugc  \u001b[39mStopping\u001b[0m                                      \u001b[34m0.6s \u001b[0m\n",
      "\u001b[?25h\u001b[1A\u001b[1A\u001b[0G\u001b[?25l[+] Running 0/1\n",
      " ⠦ Container clickhouse_ugc  \u001b[39mStopping\u001b[0m                                      \u001b[34m0.7s \u001b[0m\n",
      "\u001b[?25h\u001b[1A\u001b[1A\u001b[0G\u001b[?25l[+] Running 0/1\n",
      " ⠧ Container clickhouse_ugc  \u001b[39mStopping\u001b[0m                                      \u001b[34m0.8s \u001b[0m\n",
      "\u001b[?25h\u001b[1A\u001b[1A\u001b[0G\u001b[?25l[+] Running 0/1\n",
      " ⠇ Container clickhouse_ugc  \u001b[39mStopping\u001b[0m                                      \u001b[34m0.9s \u001b[0m\n",
      "\u001b[?25h\u001b[1A\u001b[1A\u001b[0G\u001b[?25l[+] Running 0/1\n",
      " ⠏ Container clickhouse_ugc  \u001b[39mStopping\u001b[0m                                      \u001b[34m1.0s \u001b[0m\n",
      "\u001b[?25h\u001b[1A\u001b[1A\u001b[0G\u001b[?25l[+] Running 0/1\n",
      " ⠋ Container clickhouse_ugc  \u001b[39mStopping\u001b[0m                                      \u001b[34m1.1s \u001b[0m\n",
      "\u001b[?25h\u001b[1A\u001b[1A\u001b[0G\u001b[?25l[+] Running 0/1\n",
      " ⠙ Container clickhouse_ugc  \u001b[39mStopping\u001b[0m                                      \u001b[34m1.2s \u001b[0m\n",
      "\u001b[?25h\u001b[1A\u001b[1A\u001b[0G\u001b[?25l[+] Running 0/1\n",
      " ⠹ Container clickhouse_ugc  \u001b[39mStopping\u001b[0m                                      \u001b[34m1.3s \u001b[0m\n",
      "\u001b[?25h\u001b[1A\u001b[1A\u001b[0G\u001b[?25l[+] Running 0/1\n",
      " ⠸ Container clickhouse_ugc  \u001b[39mStopping\u001b[0m                                      \u001b[34m1.4s \u001b[0m\n",
      "\u001b[?25h\u001b[1A\u001b[1A\u001b[0G\u001b[?25l[+] Running 0/1\n",
      " ⠼ Container clickhouse_ugc  \u001b[39mStopping\u001b[0m                                      \u001b[34m1.5s \u001b[0m\n",
      "\u001b[?25h\u001b[1A\u001b[1A\u001b[0G\u001b[?25l[+] Running 0/1\n",
      " ⠴ Container clickhouse_ugc  \u001b[39mStopping\u001b[0m                                      \u001b[34m1.6s \u001b[0m\n",
      "\u001b[?25h\u001b[1A\u001b[1A\u001b[0G\u001b[?25l[+] Running 0/1\n",
      " ⠦ Container clickhouse_ugc  \u001b[39mStopping\u001b[0m                                      \u001b[34m1.7s \u001b[0m\n",
      "\u001b[?25h\u001b[1A\u001b[1A\u001b[0G\u001b[?25l[+] Running 0/1\n",
      " ⠧ Container clickhouse_ugc  \u001b[39mStopping\u001b[0m                                      \u001b[34m1.8s \u001b[0m\n",
      "\u001b[?25h\u001b[1A\u001b[1A\u001b[0G\u001b[?25l[+] Running 0/1\n",
      " ⠇ Container clickhouse_ugc  \u001b[39mStopping\u001b[0m                                      \u001b[34m1.9s \u001b[0m\n",
      "\u001b[?25h\u001b[1A\u001b[1A\u001b[0G\u001b[?25l[+] Running 0/1\n",
      " ⠏ Container clickhouse_ugc  \u001b[39mStopping\u001b[0m                                      \u001b[34m2.0s \u001b[0m\n",
      "\u001b[?25h\u001b[1A\u001b[1A\u001b[0G\u001b[?25l[+] Running 0/1\n",
      " ⠋ Container clickhouse_ugc  \u001b[39mStopping\u001b[0m                                      \u001b[34m2.1s \u001b[0m\n",
      "\u001b[?25h\u001b[1A\u001b[1A\u001b[0G\u001b[?25l[+] Running 0/1\n",
      " ⠿ Container clickhouse_ugc  \u001b[39mRemoving\u001b[0m                                      \u001b[34m2.2s \u001b[0m\n",
      "\u001b[?25h\u001b[1A\u001b[1A\u001b[0G\u001b[?25l\u001b[34m[+] Running 1/1\u001b[0m\n",
      " \u001b[32m✔\u001b[0m Container clickhouse_ugc          \u001b[32mRemoved\u001b[0m                               \u001b[34m2.2s \u001b[0m\n",
      " ⠋ Network storage_research_default  \u001b[39mRemoving\u001b[0m                              \u001b[34m0.1s \u001b[0m\n",
      "\u001b[?25h\u001b[1A\u001b[1A\u001b[1A\u001b[0G\u001b[?25l[+] Running 1/2\n",
      " \u001b[32m✔\u001b[0m Container clickhouse_ugc          \u001b[32mRemoved\u001b[0m                               \u001b[34m2.2s \u001b[0m\n",
      " ⠙ Network storage_research_default  \u001b[39mRemoving\u001b[0m                              \u001b[34m0.2s \u001b[0m\n",
      "\u001b[?25h\u001b[1A\u001b[1A\u001b[1A\u001b[0G\u001b[?25l[+] Running 1/2\n",
      " \u001b[32m✔\u001b[0m Container clickhouse_ugc          \u001b[32mRemoved\u001b[0m                               \u001b[34m2.2s \u001b[0m\n",
      " ⠹ Network storage_research_default  \u001b[39mRemoving\u001b[0m                              \u001b[34m0.3s \u001b[0m\n",
      "\u001b[?25h\u001b[1A\u001b[1A\u001b[1A\u001b[0G\u001b[?25l\u001b[34m[+] Running 2/2\u001b[0m\n",
      " \u001b[32m✔\u001b[0m Container clickhouse_ugc          \u001b[32mRemoved\u001b[0m                               \u001b[34m2.2s \u001b[0m\n",
      " \u001b[32m✔\u001b[0m Network storage_research_default  \u001b[32mRemoved\u001b[0m                               \u001b[34m0.4s \u001b[0m\n",
      "\u001b[?25h"
     ]
    }
   ],
   "source": [
    "!docker compose -f clickhouse_basic.yml down --remove-orphans -v"
   ]
  },
  {
   "cell_type": "code",
   "execution_count": null,
   "metadata": {},
   "outputs": [],
   "source": []
  }
 ],
 "metadata": {
  "kernelspec": {
   "display_name": ".venv",
   "language": "python",
   "name": "python3"
  },
  "language_info": {
   "codemirror_mode": {
    "name": "ipython",
    "version": 3
   },
   "file_extension": ".py",
   "mimetype": "text/x-python",
   "name": "python",
   "nbconvert_exporter": "python",
   "pygments_lexer": "ipython3",
   "version": "3.10.6"
  },
  "orig_nbformat": 4,
  "vscode": {
   "interpreter": {
    "hash": "80e59861a9cf9c96a3f6c2a3b7ed78a78b027ca541147f283481619f7e609d34"
   }
  }
 },
 "nbformat": 4,
 "nbformat_minor": 2
}
